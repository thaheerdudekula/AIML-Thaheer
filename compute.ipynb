{
 "cells": [
  {
   "cell_type": "code",
   "execution_count": 7,
   "id": "b59dcd53-c979-4931-ad33-9666cdb29f6b",
   "metadata": {},
   "outputs": [],
   "source": [
    "def mean_value(*n):\n",
    "    sum=0\n",
    "    counter=0\n",
    "    for x in n:\n",
    "        counter=counter+1\n",
    "        sum+=x\n",
    "    mean = sum/counter\n",
    "    return mean"
   ]
  },
  {
   "cell_type": "code",
   "execution_count": 13,
   "id": "14e666b5-fbf5-431f-bc83-2b14af78d1a9",
   "metadata": {},
   "outputs": [],
   "source": [
    "#find the product of given numbers\n",
    "def product(*n):\n",
    "    result = 1 \n",
    "    for i in range(len(n)):\n",
    "        result*=n[i]\n",
    "    return result\n",
    "        \n"
   ]
  },
  {
   "cell_type": "code",
   "execution_count": 15,
   "id": "0b33e71f-e4d1-483c-8ac8-0465da7093a8",
   "metadata": {},
   "outputs": [
    {
     "data": {
      "text/plain": [
       "108"
      ]
     },
     "execution_count": 15,
     "metadata": {},
     "output_type": "execute_result"
    }
   ],
   "source": [
    "product(3,4,3,3)"
   ]
  }
 ],
 "metadata": {
  "kernelspec": {
   "display_name": "Python [conda env:base] *",
   "language": "python",
   "name": "conda-base-py"
  },
  "language_info": {
   "codemirror_mode": {
    "name": "ipython",
    "version": 3
   },
   "file_extension": ".py",
   "mimetype": "text/x-python",
   "name": "python",
   "nbconvert_exporter": "python",
   "pygments_lexer": "ipython3",
   "version": "3.12.7"
  }
 },
 "nbformat": 4,
 "nbformat_minor": 5
}
