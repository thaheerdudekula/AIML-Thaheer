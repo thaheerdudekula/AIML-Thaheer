{
 "cells": [
  {
   "cell_type": "code",
   "execution_count": 23,
   "id": "f4f216f2-17e7-46c2-aa3c-257dbefb4a45",
   "metadata": {},
   "outputs": [
    {
     "name": "stdout",
     "output_type": "stream",
     "text": [
      "odd\n"
     ]
    }
   ],
   "source": [
    "num = 9\n",
    "if num % 2 == 0:\n",
    "    print(\"even\")\n",
    "else:\n",
    "    print(\"odd\")"
   ]
  },
  {
   "cell_type": "code",
   "execution_count": 27,
   "id": "17d0aa30-269d-4c37-893d-4216e4de13cb",
   "metadata": {},
   "outputs": [
    {
     "name": "stdout",
     "output_type": "stream",
     "text": [
      "odd\n"
     ]
    }
   ],
   "source": [
    "print(\"even\") if num % 2 == 0 else print(\"odd\")"
   ]
  },
  {
   "cell_type": "code",
   "execution_count": 39,
   "id": "46c65940-e663-4fa8-a1ea-511f44aae76d",
   "metadata": {},
   "outputs": [
    {
     "name": "stdout",
     "output_type": "stream",
     "text": [
      "Zero\n"
     ]
    }
   ],
   "source": [
    "num = 0\n",
    "result = \"Positive\" if num>0 else (\"Negative\" if num < 0 else (\"Zero\"))\n",
    "print(result)"
   ]
  },
  {
   "cell_type": "code",
   "execution_count": 47,
   "id": "cd3bc107-7c41-433c-8645-fc57d31226bb",
   "metadata": {},
   "outputs": [],
   "source": [
    "##List comprehension\n"
   ]
  },
  {
   "cell_type": "code",
   "execution_count": 51,
   "id": "8cda1c6e-619a-41c0-934e-fc7ec44359b0",
   "metadata": {},
   "outputs": [
    {
     "data": {
      "text/plain": [
       "[2, 18, 4, 20, 90, 194]"
      ]
     },
     "execution_count": 51,
     "metadata": {},
     "output_type": "execute_result"
    }
   ],
   "source": [
    "L = [1,9,2,10,45,97]\n",
    "[2*x for x in L]"
   ]
  },
  {
   "cell_type": "code",
   "execution_count": 57,
   "id": "81d21103-76c1-4c10-a89e-6eede9c95272",
   "metadata": {},
   "outputs": [],
   "source": [
    "##list comprehension with a conditional\n",
    "#print even numbers"
   ]
  },
  {
   "cell_type": "code",
   "execution_count": 61,
   "id": "b36d4c9e-e22d-45f1-b659-217734ba0d14",
   "metadata": {},
   "outputs": [
    {
     "data": {
      "text/plain": [
       "[2, 10]"
      ]
     },
     "execution_count": 61,
     "metadata": {},
     "output_type": "execute_result"
    }
   ],
   "source": [
    "L = [1,9,2,10,45,97]\n",
    "[x for x in L if x%2 == 0]"
   ]
  },
  {
   "cell_type": "code",
   "execution_count": 65,
   "id": "ee92b5c5-c64e-412c-b778-e8859c94e5d0",
   "metadata": {},
   "outputs": [
    {
     "data": {
      "text/plain": [
       "[1, 9, 45, 97]"
      ]
     },
     "execution_count": 65,
     "metadata": {},
     "output_type": "execute_result"
    }
   ],
   "source": [
    "[x for x in L if x%2 != 0]"
   ]
  },
  {
   "cell_type": "code",
   "execution_count": 77,
   "id": "0a3ba22d-8b46-4564-a950-5c72fc14b362",
   "metadata": {},
   "outputs": [
    {
     "data": {
      "text/plain": [
       "27.333333333333332"
      ]
     },
     "execution_count": 77,
     "metadata": {},
     "output_type": "execute_result"
    }
   ],
   "source": [
    "#print the average value of the list of numbers using list comprehension\n",
    "sum(L)/len(L)"
   ]
  },
  {
   "cell_type": "code",
   "execution_count": 81,
   "id": "691da402-6a07-4456-b856-ff3f7afdd395",
   "metadata": {},
   "outputs": [
    {
     "data": {
      "text/plain": [
       "{'ram': [48, 88, 90, 100], 'john': [78, 38, 80, 28]}"
      ]
     },
     "execution_count": 81,
     "metadata": {},
     "output_type": "execute_result"
    }
   ],
   "source": [
    "#dictionary comprehension\n",
    "d1={'ram':[48,88,90,100], 'john':[78,38,80,28]}\n",
    "d1"
   ]
  },
  {
   "cell_type": "code",
   "execution_count": 87,
   "id": "a08716b0-f603-4dc0-87c2-9c500fd90416",
   "metadata": {},
   "outputs": [
    {
     "data": {
      "text/plain": [
       "{'ram': 81.5, 'john': 56.0}"
      ]
     },
     "execution_count": 87,
     "metadata": {},
     "output_type": "execute_result"
    }
   ],
   "source": [
    "{k:sum(v)/len(v) for k,v in d1.items()}"
   ]
  },
  {
   "cell_type": "code",
   "execution_count": null,
   "id": "4ac44ef4-c9fc-4bf4-b78a-90a297972669",
   "metadata": {},
   "outputs": [],
   "source": []
  }
 ],
 "metadata": {
  "kernelspec": {
   "display_name": "Python [conda env:base] *",
   "language": "python",
   "name": "conda-base-py"
  },
  "language_info": {
   "codemirror_mode": {
    "name": "ipython",
    "version": 3
   },
   "file_extension": ".py",
   "mimetype": "text/x-python",
   "name": "python",
   "nbconvert_exporter": "python",
   "pygments_lexer": "ipython3",
   "version": "3.12.7"
  }
 },
 "nbformat": 4,
 "nbformat_minor": 5
}
